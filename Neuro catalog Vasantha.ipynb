{
 "cells": [
  {
   "cell_type": "code",
   "execution_count": 26,
   "id": "5bdb3fe3",
   "metadata": {},
   "outputs": [],
   "source": [
    "#Importing libraries\n",
    "import pandas as pd\n",
    "import ipywidgets as widgets\n",
    "from IPython.display import display\n",
    "from IPython.display import clear_output"
   ]
  },
  {
   "cell_type": "code",
   "execution_count": 27,
   "id": "0d4c8ccc",
   "metadata": {},
   "outputs": [],
   "source": [
    "#Loading dataset\n",
    "file_path = r'C:\\Users\\vc28\\Desktop\\Vasantha Neuro Catalog.csv'\n",
    "df = pd.read_csv(file_path, encoding='iso-8859-1')"
   ]
  },
  {
   "cell_type": "code",
   "execution_count": 28,
   "id": "d8e47a04",
   "metadata": {},
   "outputs": [],
   "source": [
    "##Create Interactive dropdown and output widgets\n",
    "# Get unique keywords from the 'Keywords' column\n",
    "keywords_list = df['Keywords'].str.split('; ').explode().unique()\n",
    "\n",
    "# Create a dropdown widget\n",
    "keyword_dropdown = widgets.Dropdown(\n",
    "    options=keywords_list,\n",
    "    description=' Keyword:',\n",
    "    disabled=False\n",
    ")"
   ]
  },
  {
   "cell_type": "code",
   "execution_count": 29,
   "id": "c110e8c8",
   "metadata": {},
   "outputs": [
    {
     "data": {
      "application/vnd.jupyter.widget-view+json": {
       "model_id": "230e57f97c434929aa5609cbf3e07f0a",
       "version_major": 2,
       "version_minor": 0
      },
      "text/plain": [
       "Dropdown(description=' Keyword:', options=('brain metastases', 'PET', 'Epilepsy', 'siezure tracking', \"parkins…"
      ]
     },
     "metadata": {},
     "output_type": "display_data"
    },
    {
     "data": {
      "application/vnd.jupyter.widget-view+json": {
       "model_id": "f28ec5f91ced4620bacf7845ed4efee6",
       "version_major": 2,
       "version_minor": 0
      },
      "text/plain": [
       "Output()"
      ]
     },
     "metadata": {},
     "output_type": "display_data"
    }
   ],
   "source": [
    "# Function to filter and display rows based on the selected keyword\n",
    "def display_rows_based_on_keyword(keyword):\n",
    "    filtered_df = df[df['Keywords'].str.contains(keyword, na=False)]\n",
    "    display(filtered_df)\n",
    "\n",
    "# Create an interactive output widget\n",
    "output = widgets.interactive_output(display_rows_based_on_keyword, {'keyword': keyword_dropdown})\n",
    "\n",
    "# Display the dropdown and output widgets\n",
    "display(keyword_dropdown, output)"
   ]
  },
  {
   "cell_type": "code",
   "execution_count": 30,
   "id": "70b25ca7",
   "metadata": {},
   "outputs": [],
   "source": [
    "# Get unique keywords from the 'Scoping' column\n",
    "scoping_list = df['Scoping'].str.split('; ').explode().unique()\n",
    "\n",
    "# Create a dropdown widget\n",
    "scoping_dropdown = widgets.Dropdown(\n",
    "    options=scoping_list,\n",
    "    description='Select Scoping:',\n",
    "    disabled=False\n",
    ")"
   ]
  },
  {
   "cell_type": "code",
   "execution_count": 31,
   "id": "a53e0435",
   "metadata": {},
   "outputs": [
    {
     "data": {
      "application/vnd.jupyter.widget-view+json": {
       "model_id": "8a7a5610723141e1a464f4e25738d390",
       "version_major": 2,
       "version_minor": 0
      },
      "text/plain": [
       "Dropdown(description='Select Scoping:', options=('Screening: aim to detect at least a month before MRI', 'scre…"
      ]
     },
     "metadata": {},
     "output_type": "display_data"
    },
    {
     "data": {
      "application/vnd.jupyter.widget-view+json": {
       "model_id": "9f27706091b24f1ab122ae576b592c58",
       "version_major": 2,
       "version_minor": 0
      },
      "text/plain": [
       "Output()"
      ]
     },
     "metadata": {},
     "output_type": "display_data"
    }
   ],
   "source": [
    "# Function to filter and display rows based on the selected scoping\n",
    "def display_rows_based_on_scoping(scoping):\n",
    "    filtered_df = df[df['Scoping'].str.contains(scoping, na=False)]\n",
    "    display(filtered_df)\n",
    "\n",
    "# Create an interactive output widget\n",
    "output = widgets.interactive_output(display_rows_based_on_scoping, {'scoping': scoping_dropdown})\n",
    "\n",
    "# Display the dropdown and output widgets\n",
    "display(scoping_dropdown, output)"
   ]
  },
  {
   "cell_type": "code",
   "execution_count": 32,
   "id": "6c734a76",
   "metadata": {},
   "outputs": [],
   "source": [
    "# Get unique keywords from the 'Solution category' column\n",
    "solution_category_list = df['Solution Category'].str.split('; ').explode().unique()\n",
    "\n",
    "# Create a dropdown widget\n",
    "solution_category_dropdown = widgets.Dropdown(\n",
    "    options=solution_category_list,\n",
    "    description='Select Solution Category:',\n",
    "    disabled=False\n",
    ")"
   ]
  },
  {
   "cell_type": "code",
   "execution_count": 33,
   "id": "8eb77280",
   "metadata": {},
   "outputs": [
    {
     "data": {
      "application/vnd.jupyter.widget-view+json": {
       "model_id": "cc65692f545f44ada3398eb5122edf20",
       "version_major": 2,
       "version_minor": 0
      },
      "text/plain": [
       "Dropdown(description='Select Solution Category:', options=('Technology of the Future', 'Data driven', 'app', '…"
      ]
     },
     "metadata": {},
     "output_type": "display_data"
    },
    {
     "data": {
      "application/vnd.jupyter.widget-view+json": {
       "model_id": "0eb2979c2e6247c2b0adafc6fd4914c4",
       "version_major": 2,
       "version_minor": 0
      },
      "text/plain": [
       "Output()"
      ]
     },
     "metadata": {},
     "output_type": "display_data"
    }
   ],
   "source": [
    "# Function to filter and display rows based on the selected solution category\n",
    "def display_rows_based_on_solution_category(solution_category):\n",
    "    filtered_df = df[df['Solution Category'].str.contains(solution_category, na=False)]\n",
    "    display(filtered_df)\n",
    "\n",
    "# Create an interactive output widget\n",
    "output = widgets.interactive_output(display_rows_based_on_solution_category, {'solution_category': solution_category_dropdown})\n",
    "\n",
    "# Display the dropdown and output widgets\n",
    "display(solution_category_dropdown, output)"
   ]
  },
  {
   "cell_type": "code",
   "execution_count": 34,
   "id": "558b90fb",
   "metadata": {},
   "outputs": [],
   "source": [
    "##All widgets together"
   ]
  },
  {
   "cell_type": "code",
   "execution_count": 37,
   "id": "5d8eeec9",
   "metadata": {},
   "outputs": [
    {
     "data": {
      "application/vnd.jupyter.widget-view+json": {
       "model_id": "956fdd89713c4777a4d86682cb32562f",
       "version_major": 2,
       "version_minor": 0
      },
      "text/plain": [
       "VBox(children=(Dropdown(description='Keyword:', options=('brain metastases; PET', 'Epilepsy; siezure tracking'…"
      ]
     },
     "metadata": {},
     "output_type": "display_data"
    }
   ],
   "source": [
    "# Get unique keywords from the 'Keywords' column\n",
    "keywords_list = df['Keywords'].str.split(', ').explode().unique()\n",
    "\n",
    "# Get unique scoping values from the 'Scoping' column\n",
    "scoping_list = df['Scoping'].str.split('; ').explode().unique()\n",
    "\n",
    "# Get unique solution categories from the 'Solution Category' column\n",
    "solution_category_list = df['Solution Category'].str.split('; ').explode().unique()\n",
    "\n",
    "# Create dropdown widgets\n",
    "keyword_dropdown = widgets.Dropdown(options=keywords_list, description='Keyword:', disabled=False)\n",
    "scoping_dropdown = widgets.Dropdown(options=scoping_list, description='Scoping:', disabled=False)\n",
    "solution_category_dropdown = widgets.Dropdown(options=solution_category_list, description='Solution Category:', disabled=False)\n",
    "\n",
    "# Function to filter and display rows based on selected keyword, scoping, and solution category\n",
    "def display_filtered_rows(keyword, scoping, solution_category):\n",
    "    filtered_df = df[\n",
    "        (df['Keywords'].str.contains(keyword, na=False)) &\n",
    "        (df['Scoping'].str.contains(scoping, na=False)) &\n",
    "        (df['Solution Category'].str.contains(solution_category, na=False))\n",
    "    ]\n",
    "    display(filtered_df)\n",
    "\n",
    "# Create an interactive output widget based on all three dropdowns\n",
    "output = widgets.interactive_output(display_filtered_rows, {\n",
    "    'keyword': keyword_dropdown,\n",
    "    'scoping': scoping_dropdown,\n",
    "    'solution_category': solution_category_dropdown\n",
    "})\n",
    "\n",
    "# Create VBox to display widgets vertically\n",
    "widget_box = widgets.VBox([\n",
    "    keyword_dropdown,\n",
    "    scoping_dropdown,\n",
    "    solution_category_dropdown,\n",
    "    output\n",
    "])\n",
    "\n",
    "# Display the widgets\n",
    "display(widget_box)\n",
    "\n"
   ]
  },
  {
   "cell_type": "code",
   "execution_count": null,
   "id": "1b77763f",
   "metadata": {},
   "outputs": [],
   "source": [
    "\n"
   ]
  },
  {
   "cell_type": "code",
   "execution_count": null,
   "id": "1358de6b",
   "metadata": {},
   "outputs": [],
   "source": []
  }
 ],
 "metadata": {
  "kernelspec": {
   "display_name": "Python 3 (ipykernel)",
   "language": "python",
   "name": "python3"
  },
  "language_info": {
   "codemirror_mode": {
    "name": "ipython",
    "version": 3
   },
   "file_extension": ".py",
   "mimetype": "text/x-python",
   "name": "python",
   "nbconvert_exporter": "python",
   "pygments_lexer": "ipython3",
   "version": "3.11.4"
  }
 },
 "nbformat": 4,
 "nbformat_minor": 5
}
